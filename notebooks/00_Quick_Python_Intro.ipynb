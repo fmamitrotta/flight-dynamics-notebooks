{
 "cells": [
  {
   "cell_type": "markdown",
   "metadata": {},
   "source": [
    "# Quick Python Intro\n",
    "\n",
    "***\n",
    "\n",
    "Welcome! This notebook contains a short introduction to programming in Python to help you get started with the flight dynamics and control notebooks. Most of the content is taken from the analogous notebook of the [CFD Python module](https://github.com/barbagroup/CFDPython) by [Prof. Lorena Barba](http://lorenabarba.com/), with only a few additions here and there, so all credit to her and her collaborators!\n",
    "\n",
    "Before we get started, remember to do the following:\n",
    "\n",
    "1. Clone or donwload the repository to your computer.\n",
    "\n",
    "2. Download and install [Anaconda](https://www.anaconda.com/) on your computer. This will give you access to a distribution of Python with all the needed libraries to work with the notebooks.\n",
    "\n",
    "3. On your computer go to _Start_ and look for _Anaconda Prompt_. Run it!\n",
    "\n",
    "4. A command prompt should open. Type `jupyter notebook` and press enter.\n",
    "\n",
    "5. A new tab in your browser should open. Navigate to the folder where you have cloned or downloaded the repository and open this first notebook. Now you are good to go!"
   ]
  },
  {
   "cell_type": "markdown",
   "metadata": {},
   "source": [
    "## Libraries\n",
    "\n",
    "***\n",
    "\n",
    "Python is a high-level open-source language.  But the _Python world_ is inhabited by many packages or libraries that provide useful things like array operations, plotting functions, and much more. We can import libraries of functions to expand the capabilities of Python in our programs.\n",
    "\n",
    "OK! We'll start by importing a few libraries to help us out. First: our favorite library is **NumPy**, providing a bunch of useful array operations (similar to MATLAB). We will use it a lot! The second library we need is **Matplotlib**, a 2D plotting library which we will use to plot our results.\n",
    "\n",
    "In the following cell we are going to import the whole NumPy library and the Pyplot module from the Matplotlib library."
   ]
  },
  {
   "cell_type": "code",
   "execution_count": 1,
   "metadata": {},
   "outputs": [],
   "source": [
    "# <-- comments in python are denoted by the pound sign, like this one\n",
    "\n",
    "import numpy                # we import the array library\n",
    "from matplotlib import pyplot    # import plotting library"
   ]
  },
  {
   "cell_type": "markdown",
   "metadata": {},
   "source": [
    "As you can see we use `import x` to import an entire library, while we use `from x import y` to import a specific module of a big library.\n",
    "\n",
    "To use a function belonging to one of these libraries or modules, we have to tell Python where to look for it. For that, each function name is written following the library name, with a dot in between. For example, if we want to use the NumPy function [`arange()`](https://numpy.org/doc/stable/reference/generated/numpy.arange.html), which returns an array with equally spaced values within a given interval we have to type `numpy.arange()`:"
   ]
  },
  {
   "cell_type": "code",
   "execution_count": 2,
   "metadata": {},
   "outputs": [
    {
     "data": {
      "text/plain": [
       "array([0, 1, 2, 3, 4, 5, 6, 7, 8, 9])"
      ]
     },
     "execution_count": 2,
     "metadata": {},
     "output_type": "execute_result"
    }
   ],
   "source": [
    "myarray = numpy.arange(10)  # create array within the half-open interval [0, 10) with a default step of 1\n",
    "myarray"
   ]
  },
  {
   "cell_type": "markdown",
   "metadata": {},
   "source": [
    "If we don't preface the `arange()` function with `numpy`, Python will throw an error."
   ]
  },
  {
   "cell_type": "code",
   "execution_count": 3,
   "metadata": {},
   "outputs": [
    {
     "ename": "NameError",
     "evalue": "name 'arange' is not defined",
     "output_type": "error",
     "traceback": [
      "\u001b[1;31m---------------------------------------------------------------------------\u001b[0m",
      "\u001b[1;31mNameError\u001b[0m                                 Traceback (most recent call last)",
      "Cell \u001b[1;32mIn [3], line 1\u001b[0m\n\u001b[1;32m----> 1\u001b[0m myarray \u001b[38;5;241m=\u001b[39m \u001b[43marange\u001b[49m(\u001b[38;5;241m0\u001b[39m, \u001b[38;5;241m5\u001b[39m, \u001b[38;5;241m10\u001b[39m)\n",
      "\u001b[1;31mNameError\u001b[0m: name 'arange' is not defined"
     ]
    }
   ],
   "source": [
    "myarray = arange(0, 5, 10)"
   ]
  },
  {
   "cell_type": "markdown",
   "metadata": {},
   "source": [
    "We'll come back later on the usefulness of the `arange()` function and we'll also see other ways to create arrays.\n",
    "\n",
    "**Import style:**\n",
    "\n",
    "You will often see code snippets that use the following lines\n",
    "```Python\n",
    "import numpy as np\n",
    "import matplotlib.pyplot as plt\n",
    "```\n",
    "What's all of this import-as business? It's a way of creating a 'shortcut' to the NumPy library and the Pyplot module. This means that instead of using the `arange()` function typing `numpy.arange()` we'll have to type `np.arange()`. You will see it frequently as it is in common usage, but we prefer to keep out imports explicit. We think it helps with code readability.\n",
    "\n",
    "**Pro tip:**\n",
    "\n",
    "Sometimes, you'll see people importing a whole library without assigning a shortcut for it (like `from numpy import *`). This saves typing but is sloppy and can get you in trouble. Best to get into good habits from the beginning!\n",
    "\n",
    "\n",
    "To learn new functions available to you, visit the [NumPy Reference](http://docs.scipy.org/doc/numpy/reference/) page. If you are a proficient `Matlab` user, there is a wiki page that should prove helpful to you: [NumPy for Matlab Users](http://wiki.scipy.org/NumPy_for_Matlab_Users)"
   ]
  },
  {
   "cell_type": "markdown",
   "metadata": {},
   "source": [
    "## Variables\n",
    "\n",
    "***\n",
    "\n",
    "Python doesn't require explicitly declared variable types like C and other languages."
   ]
  },
  {
   "cell_type": "code",
   "execution_count": 4,
   "metadata": {},
   "outputs": [],
   "source": [
    "a = 5        # a is an integer 5\n",
    "b = 'five'   # b is a string of the word 'five'\n",
    "c = 5.0      # c is a floating point 5  "
   ]
  },
  {
   "cell_type": "code",
   "execution_count": 5,
   "metadata": {},
   "outputs": [
    {
     "data": {
      "text/plain": [
       "int"
      ]
     },
     "execution_count": 5,
     "metadata": {},
     "output_type": "execute_result"
    }
   ],
   "source": [
    "type(a)"
   ]
  },
  {
   "cell_type": "code",
   "execution_count": 6,
   "metadata": {},
   "outputs": [
    {
     "data": {
      "text/plain": [
       "str"
      ]
     },
     "execution_count": 6,
     "metadata": {},
     "output_type": "execute_result"
    }
   ],
   "source": [
    "type(b)"
   ]
  },
  {
   "cell_type": "code",
   "execution_count": 7,
   "metadata": {},
   "outputs": [
    {
     "data": {
      "text/plain": [
       "float"
      ]
     },
     "execution_count": 7,
     "metadata": {},
     "output_type": "execute_result"
    }
   ],
   "source": [
    "type(c)"
   ]
  },
  {
   "cell_type": "markdown",
   "metadata": {},
   "source": [
    "Note that if you divide an integer by an integer that yields a remainder, the result will be converted to a float.  (This is *different* from the behavior in Python 2.7, beware!)"
   ]
  },
  {
   "cell_type": "markdown",
   "metadata": {},
   "source": [
    "## Whitespace in Python\n",
    "\n",
    "***\n",
    "\n",
    "Python uses indents and whitespace to group statements together.  To write a short loop in C, you might use:\n",
    "\n",
    "    for (i = 0, i < 5, i++){\n",
    "       printf(\"Hi! \\n\");\n",
    "    }\n",
    "\n",
    "Python does not use curly braces like C, so the same program as above is written in Python as follows:"
   ]
  },
  {
   "cell_type": "code",
   "execution_count": 8,
   "metadata": {},
   "outputs": [
    {
     "name": "stdout",
     "output_type": "stream",
     "text": [
      "Hi \n",
      "\n",
      "Hi \n",
      "\n",
      "Hi \n",
      "\n",
      "Hi \n",
      "\n",
      "Hi \n",
      "\n"
     ]
    }
   ],
   "source": [
    "for i in range(5):  # iterate for i going from 0 to 4\n",
    "    print(\"Hi \\n\")  # print text for each iteration"
   ]
  },
  {
   "cell_type": "markdown",
   "metadata": {},
   "source": [
    "If you have nested for-loops, there is a further indent for the inner loop."
   ]
  },
  {
   "cell_type": "code",
   "execution_count": 9,
   "metadata": {},
   "outputs": [
    {
     "name": "stdout",
     "output_type": "stream",
     "text": [
      "0 0\n",
      "0 1\n",
      "0 2\n",
      "This statement is within the i-loop, but not the j-loop\n",
      "1 0\n",
      "1 1\n",
      "1 2\n",
      "This statement is within the i-loop, but not the j-loop\n",
      "2 0\n",
      "2 1\n",
      "2 2\n",
      "This statement is within the i-loop, but not the j-loop\n"
     ]
    }
   ],
   "source": [
    "for i in range(3):  # iterate for i going from 0 to 2\n",
    "    for j in range(3):  # iterate for j going from 0 to 2\n",
    "        print(i, j)  # print i and j\n",
    "    \n",
    "    print(\"This statement is within the i-loop, but not the j-loop\")  # print text"
   ]
  },
  {
   "cell_type": "markdown",
   "metadata": {},
   "source": [
    "## Defining Arrays\n",
    "\n",
    "***\n",
    "\n",
    "Let's have a look at some different ways to create arrays with NumPy. We are going to create the same array using three different functions.\n",
    "\n",
    "Let's start with the `arange()` function, which we have used earlier. As we saw, it creates an array with evenly space values within a given interval. If we use only one argument, `arange(a)`, it generates values within the half-open interval `[0, a)` with a default spacing of 1. If we use two arguments, `arange(a, b)`, it generates values within the half-open interval `[a, b)` with a default spacing of 1. If we use three arguments, `arange(a, b, c)`, it generates values within the half-open interval `[a, b)` with a spacing given by `c`. Let's test it!"
   ]
  },
  {
   "cell_type": "code",
   "execution_count": 10,
   "metadata": {
    "pycharm": {
     "name": "#%%\n"
    }
   },
   "outputs": [
    {
     "data": {
      "text/plain": [
       "array([0, 2, 4, 6, 8])"
      ]
     },
     "execution_count": 10,
     "metadata": {},
     "output_type": "execute_result"
    }
   ],
   "source": [
    "myvals = numpy.arange(0, 9, 2)\n",
    "myvals"
   ]
  },
  {
   "cell_type": "markdown",
   "metadata": {},
   "source": [
    "Ok, now let's create the same array with the [`linspace()`](https://numpy.org/doc/stable/reference/generated/numpy.linspace.html) function. This function also creates an array with evenly spaced numbers over a specified interval, however it does so over a close interval and it allows us to define the number of points that we want to use to divide the interval. This means that when we call `linspace(a, b, c)` we create an array with `c` evenly spaced samples over the close interval `[a, b]`. Have a look."
   ]
  },
  {
   "cell_type": "code",
   "execution_count": 11,
   "metadata": {
    "pycharm": {
     "name": "#%%\n"
    }
   },
   "outputs": [
    {
     "data": {
      "text/plain": [
       "array([0., 2., 4., 6., 8.])"
      ]
     },
     "execution_count": 11,
     "metadata": {},
     "output_type": "execute_result"
    }
   ],
   "source": [
    "myvals = numpy.linspace(0, 8, 5)\n",
    "myvals"
   ]
  },
  {
   "cell_type": "markdown",
   "metadata": {},
   "source": [
    "If we don't specify the number of samples to generate, `linspace()` will generate 50 samples by default.\n",
    "\n",
    "Finally, we can also define a NumPy array in a more explicit way. We do this by calling the [`array()`](https://numpy.org/doc/stable/reference/generated/numpy.array.html) function and providing a list as argument, which in Python is defined as a sequence of elements inside square brackets."
   ]
  },
  {
   "cell_type": "code",
   "execution_count": 12,
   "metadata": {
    "pycharm": {
     "name": "#%%\n"
    }
   },
   "outputs": [
    {
     "data": {
      "text/plain": [
       "array([0, 2, 4, 6, 8])"
      ]
     },
     "execution_count": 12,
     "metadata": {},
     "output_type": "execute_result"
    }
   ],
   "source": [
    "myvals = numpy.array([0, 2, 4, 6, 8])\n",
    "myvals"
   ]
  },
  {
   "cell_type": "markdown",
   "metadata": {},
   "source": [
    "## Slicing Arrays\n",
    "\n",
    "***\n",
    "\n",
    "In NumPy, you can look at portions of arrays in the same way as in `Matlab`, with a few extra tricks thrown in.  Let's take an array of values from 1 to 5."
   ]
  },
  {
   "cell_type": "code",
   "execution_count": 13,
   "metadata": {},
   "outputs": [
    {
     "data": {
      "text/plain": [
       "array([1, 2, 3, 4, 5])"
      ]
     },
     "execution_count": 13,
     "metadata": {},
     "output_type": "execute_result"
    }
   ],
   "source": [
    "myvals = numpy.array([1, 2, 3, 4, 5])\n",
    "myvals"
   ]
  },
  {
   "cell_type": "markdown",
   "metadata": {},
   "source": [
    "Python uses a **zero-based index**, so let's look at the first and last element in the array `myvals`"
   ]
  },
  {
   "cell_type": "code",
   "execution_count": 14,
   "metadata": {},
   "outputs": [
    {
     "data": {
      "text/plain": [
       "(1, 5)"
      ]
     },
     "execution_count": 14,
     "metadata": {},
     "output_type": "execute_result"
    }
   ],
   "source": [
    "myvals[0], myvals[4]"
   ]
  },
  {
   "cell_type": "markdown",
   "metadata": {},
   "source": [
    "There are 5 elements in the array `myvals`, but if we try to look at `myvals[5]`, Python will be unhappy, as `myvals[5]` is actually calling the non-existant 6th element of that array."
   ]
  },
  {
   "cell_type": "code",
   "execution_count": 15,
   "metadata": {},
   "outputs": [
    {
     "ename": "IndexError",
     "evalue": "index 5 is out of bounds for axis 0 with size 5",
     "output_type": "error",
     "traceback": [
      "\u001b[1;31m---------------------------------------------------------------------------\u001b[0m",
      "\u001b[1;31mIndexError\u001b[0m                                Traceback (most recent call last)",
      "Cell \u001b[1;32mIn [15], line 1\u001b[0m\n\u001b[1;32m----> 1\u001b[0m \u001b[43mmyvals\u001b[49m\u001b[43m[\u001b[49m\u001b[38;5;241;43m5\u001b[39;49m\u001b[43m]\u001b[49m\n",
      "\u001b[1;31mIndexError\u001b[0m: index 5 is out of bounds for axis 0 with size 5"
     ]
    }
   ],
   "source": [
    "myvals[5]"
   ]
  },
  {
   "cell_type": "markdown",
   "metadata": {},
   "source": [
    "Arrays can also be 'sliced', grabbing a range of values.  Let's look at the first three elements"
   ]
  },
  {
   "cell_type": "code",
   "execution_count": 16,
   "metadata": {},
   "outputs": [
    {
     "data": {
      "text/plain": [
       "array([1, 2, 3])"
      ]
     },
     "execution_count": 16,
     "metadata": {},
     "output_type": "execute_result"
    }
   ],
   "source": [
    "myvals[0:3]"
   ]
  },
  {
   "cell_type": "markdown",
   "metadata": {},
   "source": [
    "Note here, the slice is inclusive on the front end and exclusive on the back, so the above command gives us the values of `myvals[0]`, `myvals[1]` and `myvals[2]`, but not `myvals[3]`."
   ]
  },
  {
   "cell_type": "markdown",
   "metadata": {},
   "source": [
    "## Assigning Array Variables\n",
    "\n",
    "***\n",
    "\n",
    "One of the strange little quirks/features in Python that often confuses people comes up when assigning and comparing arrays of values.  Here is a quick example.  Let's start by defining a 1-D array called $a$:"
   ]
  },
  {
   "cell_type": "code",
   "execution_count": 17,
   "metadata": {},
   "outputs": [],
   "source": [
    "a = numpy.linspace(1,5,5)"
   ]
  },
  {
   "cell_type": "code",
   "execution_count": 18,
   "metadata": {},
   "outputs": [
    {
     "data": {
      "text/plain": [
       "array([1., 2., 3., 4., 5.])"
      ]
     },
     "execution_count": 18,
     "metadata": {},
     "output_type": "execute_result"
    }
   ],
   "source": [
    "a"
   ]
  },
  {
   "cell_type": "markdown",
   "metadata": {},
   "source": [
    "OK, so we have an array $a$, with the values 1 through 5.  I want to make a copy of that array, called $b$, so I'll try the following:"
   ]
  },
  {
   "cell_type": "code",
   "execution_count": 19,
   "metadata": {},
   "outputs": [],
   "source": [
    "b = a"
   ]
  },
  {
   "cell_type": "code",
   "execution_count": 20,
   "metadata": {},
   "outputs": [
    {
     "data": {
      "text/plain": [
       "array([1., 2., 3., 4., 5.])"
      ]
     },
     "execution_count": 20,
     "metadata": {},
     "output_type": "execute_result"
    }
   ],
   "source": [
    "b"
   ]
  },
  {
   "cell_type": "markdown",
   "metadata": {},
   "source": [
    "Great.  So $a$ has the values 1 through 5 and now so does $b$.  Now that I have a backup of $a$, I can change its values without worrying about losing data (or so I may think!)."
   ]
  },
  {
   "cell_type": "code",
   "execution_count": 21,
   "metadata": {},
   "outputs": [],
   "source": [
    "a[2] = 17"
   ]
  },
  {
   "cell_type": "code",
   "execution_count": 22,
   "metadata": {},
   "outputs": [
    {
     "data": {
      "text/plain": [
       "array([ 1.,  2., 17.,  4.,  5.])"
      ]
     },
     "execution_count": 22,
     "metadata": {},
     "output_type": "execute_result"
    }
   ],
   "source": [
    "a"
   ]
  },
  {
   "cell_type": "markdown",
   "metadata": {},
   "source": [
    "Here, the 3rd element of $a$ has been changed to 17.  Now let's check on $b$."
   ]
  },
  {
   "cell_type": "code",
   "execution_count": 23,
   "metadata": {},
   "outputs": [
    {
     "data": {
      "text/plain": [
       "array([ 1.,  2., 17.,  4.,  5.])"
      ]
     },
     "execution_count": 23,
     "metadata": {},
     "output_type": "execute_result"
    }
   ],
   "source": [
    "b"
   ]
  },
  {
   "cell_type": "markdown",
   "metadata": {},
   "source": [
    "And that's how things go wrong!  When you use a statement like $a = b$, rather than copying all the values of $a$ into a new array called $b$, Python just creates an alias (or a pointer) called $b$ and tells it to route us to $a$.  So if we change a value in $a$ then $b$ will reflect that change (technically, this is called *assignment by reference*).  If you want to make a true copy of the array, you have to tell Python to copy every element of $a$ into a new array.  Let's call it $c$.  "
   ]
  },
  {
   "cell_type": "code",
   "execution_count": 24,
   "metadata": {},
   "outputs": [],
   "source": [
    "c = a.copy()"
   ]
  },
  {
   "cell_type": "markdown",
   "metadata": {},
   "source": [
    "Now, we can try again to change a value in $a$ and see if the changes are also seen in $c$.  "
   ]
  },
  {
   "cell_type": "code",
   "execution_count": 25,
   "metadata": {},
   "outputs": [],
   "source": [
    "a[2] = 3"
   ]
  },
  {
   "cell_type": "code",
   "execution_count": 26,
   "metadata": {},
   "outputs": [
    {
     "data": {
      "text/plain": [
       "array([1., 2., 3., 4., 5.])"
      ]
     },
     "execution_count": 26,
     "metadata": {},
     "output_type": "execute_result"
    }
   ],
   "source": [
    "a"
   ]
  },
  {
   "cell_type": "code",
   "execution_count": 27,
   "metadata": {},
   "outputs": [
    {
     "data": {
      "text/plain": [
       "array([ 1.,  2., 17.,  4.,  5.])"
      ]
     },
     "execution_count": 27,
     "metadata": {},
     "output_type": "execute_result"
    }
   ],
   "source": [
    "c"
   ]
  },
  {
   "cell_type": "markdown",
   "metadata": {},
   "source": [
    "OK, it worked!  If the difference between `a = b` and `a = b.copy()` is unclear, you should read through this again.  This issue will come back to haunt you otherwise."
   ]
  },
  {
   "cell_type": "markdown",
   "metadata": {},
   "source": [
    "## Plotting\n",
    "\n",
    "***\n",
    "\n",
    "Well done! You've almost completed this quick introduction to Python. Let's have a look at the last bit now: plotting.\n",
    "\n",
    "We imported the Pyplot module at the beginning of our notebook, so let's use it now. Have a look at how to plot one of the most basic functions: $y=x$."
   ]
  },
  {
   "cell_type": "code",
   "execution_count": 28,
   "metadata": {
    "pycharm": {
     "name": "#%%\n"
    }
   },
   "outputs": [
    {
     "data": {
      "image/png": "[encoded data removed]",
      "text/plain": [
       "<Figure size 640x480 with 1 Axes>"
      ]
     },
     "metadata": {},
     "output_type": "display_data"
    }
   ],
   "source": [
    "x = numpy.linspace(0, 1)  # define the array of the x variable with equally spaced values going from 0 to 1\n",
    "y = x  # define the array of the y variable\n",
    "pyplot.plot(x, y)  # plot y vs x\n",
    "pyplot.show()  # display all open figures"
   ]
  },
  {
   "cell_type": "markdown",
   "metadata": {},
   "source": [
    "Pretty easy, isn't it? We can also make our plot look nicer adding labels to the $x$ and the $y$ axes and some grid lines."
   ]
  },
  {
   "cell_type": "code",
   "execution_count": 29,
   "metadata": {
    "pycharm": {
     "name": "#%%\n"
    }
   },
   "outputs": [
    {
     "data": {
      "image/png": "[encoded data removed]",
      "text/plain": [
       "<Figure size 640x480 with 1 Axes>"
      ]
     },
     "metadata": {},
     "output_type": "display_data"
    }
   ],
   "source": [
    "pyplot.plot(x, y)  # plot y vs x\n",
    "pyplot.xlabel('$x$')  # set the label for the x-axis\n",
    "pyplot.ylabel('$y$')  # set the label for the y-axis\n",
    "pyplot.grid()  # configure the grid lines\n",
    "pyplot.show()  # display all open figures"
   ]
  },
  {
   "cell_type": "markdown",
   "metadata": {},
   "source": [
    "Note how we have typed `'$x$'` and `'$y$'` to use the equivalent of LaTeX's math mode. In fact with Pyplot has an internal LaTeX parser and layout engine that allows us to use all our favorite mathematical commands! Isn't this amazing?\n",
    "\n",
    "Ok, let's say we want to plot another function in the same plot, say $y=x^2$, having a different color and a legend to identify each curve. How can we do it? Have a look at the following code."
   ]
  },
  {
   "cell_type": "code",
   "execution_count": 30,
   "metadata": {
    "pycharm": {
     "name": "#%%\n"
    }
   },
   "outputs": [
    {
     "data": {
      "image/png": "[encoded data removed]",
      "text/plain": [
       "<Figure size 640x480 with 1 Axes>"
      ]
     },
     "metadata": {},
     "output_type": "display_data"
    }
   ],
   "source": [
    "fig, ax = pyplot.subplots()  # create a figure with one plot\n",
    "ax.plot(x, y, label='$y=x$')  # plot y vs x\n",
    "y2 = x**2  # define array of the y variable for the function y=x^2\n",
    "ax.plot(x, y2, label='$y=x^2$')  # plot y2 vs x\n",
    "ax.legend()  # place legend in the plot\n",
    "pyplot.xlabel('$x$')  # set the label for the x-axis\n",
    "pyplot.ylabel('$y$')  # set the label for the y-axis\n",
    "pyplot.grid()  # configure the grid lines\n",
    "pyplot.show()  # display all open figures"
   ]
  },
  {
   "cell_type": "markdown",
   "metadata": {},
   "source": [
    "Pretty neat ah? We have used the `subplots()` function to create a figure with one plot, so one set of axes that was returned into the `ax` variable. Then we used the `plot()` function with the `label=` argument to give a name to each curve. Finally, we called the `legend()` function to place the legend in our plot.\n",
    "\n",
    "Ok all good, however I bet you are wondering _\"why did we type `ax.plot()` and `ax.legend()` instead of `pyplot.plot()` ad `pyplot.legend()`?\"_ Here is where things get slighlty more complicated. In fact Python is a so-called object-oriented programming language and the `ax` variable is actually an object of the `AxesSubplot` class. `plot()` and `legend()` are methods of the `AxesSubplot` class, that is to say functions that can be called from the objects of that class.\n",
    "\n",
    "If you have never heard about object-oriented programming I bet your head may be turning a little. Don't worry, you don't need to know anything of all this classes, objects and methods business for now. If you want to have an understanding of the concepts related to object-oriented programming in Python, there are plenty of resources on the internet, and you may start reading [here](https://realpython.com/python3-object-oriented-programming/). Otherwise, you can move ahead serenely, just keep in mind that sometimes we will call functions from a variable instead of a library.\n",
    "\n",
    "Now one last trick about plotting. Let's say we have a function like $y=1/(1-x)$, which has a vertical asymptote for $x=1$. The function will go to $+\\inf$ when we approach $x=1$ from the left and to $-\\inf$ when we approach $x=1$ from the right. It would be nice to visualize the $x=1$ boundary with a vertical line, wouldn't it? Well with Pyplot we can do that simply using the `axvline()` function."
   ]
  },
  {
   "cell_type": "code",
   "execution_count": 31,
   "metadata": {
    "pycharm": {
     "name": "#%%\n"
    }
   },
   "outputs": [
    {
     "data": {
      "image/png": "[encoded data removed]",
      "text/plain": [
       "<Figure size 640x480 with 1 Axes>"
      ]
     },
     "metadata": {},
     "output_type": "display_data"
    }
   ],
   "source": [
    "x = numpy.linspace(0, 2)  # define the array of the x variable with equally spaced values going from 0 to 2\n",
    "y = 1/(1 - x)  # define array of the y variable\n",
    "fig, ax = pyplot.subplots()  # create a figure with one plot\n",
    "ax.plot(x, y, label='$y=\\\\frac{1}{1-x}$')  # plot y vs x\n",
    "ax.axvline(x=1, color='k', ls='--', label='$x=1$')  # plot x=1 line\n",
    "ax.legend()  # place legend in the plot\n",
    "pyplot.xlabel('$x$')  # set the label for the x-axis\n",
    "pyplot.ylabel('$y$')  # set the label for the y-axis\n",
    "pyplot.grid()  # configure the grid lines\n",
    "pyplot.show()  # display all open figures"
   ]
  },
  {
   "cell_type": "markdown",
   "metadata": {},
   "source": [
    "Let's note a couple of things. In the string used for the `label=` argument of the $y=1/(1-x)$ curve we used a double backslash. Why? Well, we wanted to use the mathematical command `\\frac` to write a fraction, however the backslash is a special character in Python strings, as it is used to \"escape\" illegal characters. For example, we cannot type a double quote `\"` in a string, instead it has to be preceded by a backslash `\\\"`. In the same way, to write a backslash in a string we need to precede it with another backslash. If you want, you can read more about escape characters [here](https://www.w3schools.com/python/gloss_python_escape_characters.asp).\n",
    "\n",
    "Finally, when we used `axvline()` we specified the name of each argument, as we did previously for `label=`. We used `x=1` to set the line at $x=1$, `color='k'` to have a black like, `ls='--` to have a dashed line, and `label='$x=1$'` to give a name to the curve. These are called \"keyword arguments\" and they represent a way of passing values into a function with a `key=value` syntax, where we need to employ the parameter names used in the definition of the function. It's a nice way make our code more explicit, because one of the golden rules of good Python programming is indeed _explicit is better than implicit_! Again, if you want, you can read more about keyword arguments in Python [here](https://www.geeksforgeeks.org/keyword-and-positional-argument-in-python/)."
   ]
  },
  {
   "cell_type": "markdown",
   "metadata": {},
   "source": [
    "## Learn More\n",
    "\n",
    "***\n",
    "\n",
    "There are a lot of resources online to learn more about using NumPy and other libraries. Just for kicks, here we use Jupyter's feature for embedding videos to point you to a short video on YouTube on using NumPy arrays."
   ]
  },
  {
   "cell_type": "code",
   "execution_count": 32,
   "metadata": {
    "pycharm": {
     "name": "#%%\n"
    }
   },
   "outputs": [
    {
     "data": {
      "image/jpeg": "[encoded data removed]",
      "text/html": [
       "\n",
       "        <iframe\n",
       "            width=\"400\"\n",
       "            height=\"300\"\n",
       "            src=\"https://www.youtube.com/embed/vWkb7VahaXQ\"\n",
       "            frameborder=\"0\"\n",
       "            allowfullscreen\n",
       "            \n",
       "        ></iframe>\n",
       "        "
      ],
      "text/plain": [
       "<IPython.lib.display.YouTubeVideo at 0x19854ec3760>"
      ]
     },
     "execution_count": 32,
     "metadata": {},
     "output_type": "execute_result"
    }
   ],
   "source": [
    "from IPython.display import YouTubeVideo\n",
    "# a short video about using NumPy arrays, from Enthought\n",
    "YouTubeVideo('vWkb7VahaXQ')"
   ]
  },
  {
   "cell_type": "markdown",
   "metadata": {
    "pycharm": {
     "name": "#%% md\n"
    }
   },
   "source": [
    "As far as Pyplot is concerned, [this official tutorial](https://matplotlib.org/stable/tutorials/introductory/pyplot.html) by the Matplotlib project is highly recommended.\n",
    "\n",
    "And remember, Google is your best friend when something is not working!"
   ]
  }
 ],
 "metadata": {
  "kernelspec": {
   "display_name": "Python 3 (ipykernel)",
   "language": "python",
   "name": "python3"
  },
  "language_info": {
   "codemirror_mode": {
    "name": "ipython",
    "version": 3
   },
   "file_extension": ".py",
   "mimetype": "text/x-python",
   "name": "python",
   "nbconvert_exporter": "python",
   "pygments_lexer": "ipython3",
   "version": "3.9.7"
  }
 },
 "nbformat": 4,
 "nbformat_minor": 1
}
